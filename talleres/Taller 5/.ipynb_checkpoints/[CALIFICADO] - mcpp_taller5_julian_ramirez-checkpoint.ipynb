{
 "cells": [
  {
   "cell_type": "markdown",
   "metadata": {},
   "source": [
    "# Taller 5\n",
    "Métodos Computacionales para Políticas Públicas - URosario\n",
    "\n",
    "**Entrega: viernes 6-sep-2019 11:59 PM**"
   ]
  },
  {
   "cell_type": "markdown",
   "metadata": {},
   "source": [
    "<div class=\"alert alert-success\">\n",
    "\n",
    "**Julián Santiago Ramírez** <br><br>\n",
    "julians.ramirez@urosario.edu.co\n",
    "</div>"
   ]
  },
  {
   "cell_type": "markdown",
   "metadata": {},
   "source": [
    "## Instrucciones:\n",
    "- Guarde una copia de este *Jupyter Notebook* en su computador, idealmente en una carpeta destinada al material del curso.\n",
    "- Modifique el nombre del archivo del *notebook*, agregando al final un guión inferior y su nombre y apellido, separados estos últimos por otro guión inferior. Por ejemplo, mi *notebook* se llamaría: mcpp_taller5_santiago_matallana\n",
    "- Marque el *notebook* con su nombre y e-mail en el bloque verde arriba. Reemplace el texto \"[Su nombre acá]\" con su nombre y apellido. Similar para su e-mail.\n",
    "- Desarrolle la totalidad del taller sobre este *notebook*, insertando las celdas que sea necesario debajo de cada pregunta. Haga buen uso de las celdas para código y de las celdas tipo *markdown* según el caso.\n",
    "- Recuerde salvar periódicamente sus avances.\n",
    "- Cuando termine el taller:\n",
    "    1. Descárguelo en PDF. Si tiene algún problema con la conversión, descárguelo en HTML.\n",
    "    2. Suba los dos archivos (.pdf -o .html- y .ipynb) a su repositorio en GitHub antes de la fecha y hora límites.\n",
    "\n",
    "(Todos los ejercicios tienen el mismo valor.)"
   ]
  },
  {
   "cell_type": "markdown",
   "metadata": {},
   "source": [
    "---"
   ]
  },
  {
   "cell_type": "markdown",
   "metadata": {},
   "source": [
    "### 1\n",
    "Escríba una función que ordene (de forma ascedente y descendente) un diccionario según sus valores."
   ]
  },
  {
   "cell_type": "code",
   "execution_count": 115,
   "metadata": {},
   "outputs": [
    {
     "name": "stdout",
     "output_type": "stream",
     "text": [
      "diccionario principal:  {'a': 4, 'b': 3, 'c': 9, 'd': 5, 'e': 8, 'f': 1}\n",
      "diccionario organizado:  {'f': 1, 'b': 3, 'a': 4, 'd': 5, 'e': 8, 'c': 9}\n",
      "diccionario principal:  {'a': 4, 'b': 3, 'c': 9, 'd': 5, 'e': 8, 'f': 1}\n",
      "diccionario organizado:  {'c': 9, 'e': 8, 'd': 5, 'a': 4, 'b': 3, 'f': 1}\n"
     ]
    }
   ],
   "source": [
    "def ordenar(dicc,forma):\n",
    "    if forma==\"ascendente\":\n",
    "        ## Creamos una lista con los items del diccionario\n",
    "        b=list(dicc.items())\n",
    "        ## Dado que b es una lista podemos usar el metodo \"sort\"\n",
    "        ## Este metodo requiere que se le diga que se quiere organizar en la lista, eso se logra con la palabra \"key\"\n",
    "        ## Luego seleccionamos solo los valores y esto lo logramos con una funcion lambda que escoge el valor \n",
    "        b.sort(key=lambda x:x[1])\n",
    "        diccionario_nuevo={}\n",
    "        for i in b:\n",
    "            diccionario_nuevo[i[0]]=i[1]\n",
    "        return diccionario_nuevo\n",
    "    elif forma==\"descendente\":\n",
    "        b=list(dicc.items())\n",
    "        ## Dado que b es una lista podemos usar el metodo \"sort\"\n",
    "        ## Este metodo requiere que se le diga que se quiere organizar en la lista, eso se logra con la palabra \"key\"\n",
    "        ## Luego seleccionamos solo los valores y esto lo logramos con una funcion lambda que escoge el valor \n",
    "        b.sort(key=lambda x:x[1],reverse=True)\n",
    "        diccionario_nuevo={}\n",
    "        for i in b:\n",
    "            diccionario_nuevo[i[0]]=i[1]\n",
    "        return diccionario_nuevo\n",
    "\n",
    "    \n",
    "dicc={\"a\":4,\"b\":3,\"c\":9,\"d\":5,\"e\":8,\"f\":1}   \n",
    "nuevo=ordenar(dicc,\"ascendente\")\n",
    "print (\"diccionario principal: \", dicc)\n",
    "print (\"diccionario organizado: \", nuevo)\n",
    "nuevo=ordenar(dicc,\"descendente\")\n",
    "print (\"diccionario principal: \", dicc)\n",
    "print (\"diccionario organizado: \", nuevo)"
   ]
  },
  {
   "cell_type": "code",
   "execution_count": 108,
   "metadata": {},
   "outputs": [],
   "source": [
    "lista=[1,2,3,4,5,6]\n",
    "lista.reverse()"
   ]
  },
  {
   "cell_type": "markdown",
   "metadata": {},
   "source": [
    "### 2\n",
    "Escriba una función que agregue una llave a un diccionario."
   ]
  },
  {
   "cell_type": "code",
   "execution_count": 46,
   "metadata": {},
   "outputs": [
    {
     "name": "stdout",
     "output_type": "stream",
     "text": [
      "diccionario principal:  {'a': 4, 'b': 3, 'c': 9, 'd': 5, 'e': 8, 'f': 1, 'y': 0}\n"
     ]
    }
   ],
   "source": [
    "### El programa no especifica que valor debo agregar con la llave por ende la agrego con el valor 0\n",
    "\n",
    "def agregar(dicc,llave):\n",
    "    dicc[llave]=0\n",
    "    return dicc\n",
    "\n",
    "dicc={\"a\":4,\"b\":3,\"c\":9,\"d\":5,\"e\":8,\"f\":1}\n",
    "dicc=agregar(dicc,\"y\")\n",
    "print (\"diccionario principal: \", dicc)"
   ]
  },
  {
   "cell_type": "markdown",
   "metadata": {},
   "source": [
    "### 3\n",
    "Escriba un programa que concatene los siguientes tres diccionarios en uno nuevo:"
   ]
  },
  {
   "cell_type": "markdown",
   "metadata": {},
   "source": [
    "dicc1 = {1:10, 2:20} \n",
    "dicc2 = {3:30, 4:40} \n",
    "dicc3 = {5:50,6:60}\n",
    "Resultado esperado: {1: 10, 2: 20, 3: 30, 4: 40, 5: 50, 6: 60}"
   ]
  },
  {
   "cell_type": "code",
   "execution_count": 53,
   "metadata": {},
   "outputs": [
    {
     "name": "stdout",
     "output_type": "stream",
     "text": [
      "diccionario concatenado:  {1: 10, 2: 20, 3: 30, 4: 40, 5: 50, 6: 60}\n"
     ]
    }
   ],
   "source": [
    "dicc1 = {1:10, 2:20}\n",
    "dicc2 = {3:30, 4:40}\n",
    "dicc3 = {5:50,6:60}\n",
    "\n",
    "d1=list(dicc1.items())\n",
    "d2=list(dicc2.items())\n",
    "d3=list(dicc3.items())\n",
    "\n",
    "total=d1+d2+d3\n",
    "\n",
    "diccionario_nuevo={}\n",
    "for i in total:\n",
    "    diccionario_nuevo[i[0]]=i[1]\n",
    "    \n",
    "print(\"diccionario concatenado: \",diccionario_nuevo)\n"
   ]
  },
  {
   "cell_type": "markdown",
   "metadata": {},
   "source": [
    "### 4\n",
    "Escriba una función que verifique si una determinada llave existe o no en un diccionario."
   ]
  },
  {
   "cell_type": "code",
   "execution_count": 63,
   "metadata": {},
   "outputs": [
    {
     "name": "stdout",
     "output_type": "stream",
     "text": [
      "la llave ''a'' esta en el diccionario\n",
      "''k''No esta en el diccionario\n"
     ]
    }
   ],
   "source": [
    "def existencia(dicc,llave):\n",
    "    lista=list(dicc.items())\n",
    "    booll=False\n",
    "    for i in lista:\n",
    "        if i[0]==llave:\n",
    "            booll=True\n",
    "            print(\"la llave \"+\"''\"+str(llave)+\"''\"+\" esta en el diccionario\")\n",
    "            break\n",
    "    if booll==False:\n",
    "        print(\"''\"+str(llave)+\"''\"+\"No esta en el diccionario\")\n",
    "        \n",
    "dicc={\"a\":4,\"b\":3,\"c\":9,\"d\":5,\"e\":8,\"f\":1}\n",
    "existencia(dicc,\"a\")\n",
    "existencia(dicc,\"k\")\n"
   ]
  },
  {
   "cell_type": "markdown",
   "metadata": {},
   "source": [
    "### 5\n",
    "Escriba una función que imprima todos los pares (llave, valor) de un diccionario."
   ]
  },
  {
   "cell_type": "code",
   "execution_count": 65,
   "metadata": {},
   "outputs": [
    {
     "name": "stdout",
     "output_type": "stream",
     "text": [
      "('a', 4)\n",
      "('b', 3)\n",
      "('c', 9)\n",
      "('d', 5)\n",
      "('e', 8)\n",
      "('f', 1)\n"
     ]
    }
   ],
   "source": [
    "def imprimir (dicc):\n",
    "    for k,v in dicc.items():\n",
    "        tup=(k,v)\n",
    "        print(tup)\n",
    "dicc={\"a\":4,\"b\":3,\"c\":9,\"d\":5,\"e\":8,\"f\":1}\n",
    "imprimir(dicc)"
   ]
  },
  {
   "cell_type": "markdown",
   "metadata": {},
   "source": [
    "### 6\n",
    "Escriba una función que genere un diccionario con los números enteros entre 1 y n en la forma (x: x**2)."
   ]
  },
  {
   "cell_type": "code",
   "execution_count": 71,
   "metadata": {},
   "outputs": [
    {
     "name": "stdout",
     "output_type": "stream",
     "text": [
      "diccionario generado:  {1: 1, 2: 4, 3: 9, 4: 16, 5: 25, 6: 36, 7: 49, 8: 64, 9: 81, 10: 100}\n"
     ]
    }
   ],
   "source": [
    "def generar(n):\n",
    "    diccionario={}\n",
    "    for i in range(1,n+1):\n",
    "        valor=i**2\n",
    "        diccionario[i]=valor\n",
    "    return diccionario\n",
    "\n",
    "d=generar(10)\n",
    "print(\"diccionario generado: \",d)"
   ]
  },
  {
   "cell_type": "markdown",
   "metadata": {},
   "source": [
    "### 7\n",
    "Escriba una función que sume todas las llaves de un diccionario. (Asuma que son números.)"
   ]
  },
  {
   "cell_type": "code",
   "execution_count": 75,
   "metadata": {},
   "outputs": [
    {
     "name": "stdout",
     "output_type": "stream",
     "text": [
      "La suma de las llaves del dicccionario es:  30\n"
     ]
    }
   ],
   "source": [
    "def suma(dicc):\n",
    "    lla=list(dicc.keys())\n",
    "    x=sum(lla)\n",
    "    print(\"La suma de las llaves del dicccionario es: \",x)\n",
    "\n",
    "d={10: 10, 2: 20, 3: 30, 4: 40, 5: 50, 6: 60}\n",
    "suma(d)"
   ]
  },
  {
   "cell_type": "markdown",
   "metadata": {},
   "source": [
    "### 8\n",
    "Escriba una función que sume todos los valores de un diccionario. (Asuma que son números.)"
   ]
  },
  {
   "cell_type": "code",
   "execution_count": 76,
   "metadata": {
    "scrolled": true
   },
   "outputs": [
    {
     "name": "stdout",
     "output_type": "stream",
     "text": [
      "La suma de los valores del dicccionario es:  [10, 20, 30, 40, 50, 60]\n"
     ]
    }
   ],
   "source": [
    "def suma_valores(dicc):\n",
    "    val=list(dicc.values())\n",
    "    x=sum(val)\n",
    "    print(\"La suma de los valores del dicccionario es: \",val)\n",
    "\n",
    "d={10: 10, 2: 20, 3: 30, 4: 40, 5: 50, 6: 60}\n",
    "suma_valores(d)"
   ]
  },
  {
   "cell_type": "markdown",
   "metadata": {},
   "source": [
    "_acá hay un error, el valor que debe regresar la función debe ser x, no val. Igual te doy el punto completo porque lo tienes bien estructurado_"
   ]
  },
  {
   "cell_type": "markdown",
   "metadata": {},
   "source": [
    "### 9\n",
    "Escriba una función que sume todos los ítems de un diccionario. (Asuma que son números.)"
   ]
  },
  {
   "cell_type": "code",
   "execution_count": 82,
   "metadata": {},
   "outputs": [
    {
     "name": "stdout",
     "output_type": "stream",
     "text": [
      "Suma de llaves y valores:  240\n"
     ]
    }
   ],
   "source": [
    "def suma_total(dicc):\n",
    "    lista=list(dicc.items())\n",
    "    total=0\n",
    "    for i in lista:\n",
    "        s=sum(i)\n",
    "        total=total+s\n",
    "    print(\"Suma de llaves y valores: \", total)\n",
    "\n",
    "d={10: 10, 2: 20, 3: 30, 4: 40, 5: 50, 6: 60}\n",
    "suma_total(d)"
   ]
  },
  {
   "cell_type": "markdown",
   "metadata": {},
   "source": [
    "### 10\n",
    "Escriba una función que tome dos listas y las mapee a un diccionario por pares. (El primer elemento de la primera lista es la primera llave del diccionario, el primer elemento de la segunda lista es el valor de la primera llave del diccionario, etc.)"
   ]
  },
  {
   "cell_type": "code",
   "execution_count": 84,
   "metadata": {},
   "outputs": [
    {
     "name": "stdout",
     "output_type": "stream",
     "text": [
      "Diccionario resultante:  {'julian': 20, 'pablo': 10, 'juana': 15, 'laura': 12}\n"
     ]
    }
   ],
   "source": [
    "def crear_diccionario(lista1,lista2):\n",
    "    diccionario={}\n",
    "    ### En principio asumire que es necesario que ambas listas tengan el mismo tamaño y en caso de que no muestre un mensaje \n",
    "    ### ... diciendo que tienen tamaños diferentes.\n",
    "    if len(lista1)==len(lista2):\n",
    "        for i in range(0,len(lista1)):\n",
    "            diccionario[lista1[i]]=lista2[i]\n",
    "        print(\"Diccionario resultante: \", diccionario)\n",
    "    else:\n",
    "        print(\"Es necesario que el tamaño de las dos listas sea igual\")\n",
    "        \n",
    "        \n",
    "        \n",
    "nombres=[\"julian\",\"pablo\",\"juana\",\"laura\"]\n",
    "edad=[20,10,15,12]\n",
    "crear_diccionario(nombres,edad)\n"
   ]
  },
  {
   "cell_type": "markdown",
   "metadata": {},
   "source": [
    "### 11\n",
    "Escriba una función que elimine una llave de un diccionario."
   ]
  },
  {
   "cell_type": "code",
   "execution_count": 87,
   "metadata": {},
   "outputs": [
    {
     "name": "stdout",
     "output_type": "stream",
     "text": [
      "nuevo diccionario:  {'pablo': 10, 'juana': 15, 'laura': 12}\n",
      "La llave ana no fue encontrada en el diccionario\n"
     ]
    }
   ],
   "source": [
    "def eliminar(dicc,llave):\n",
    "    llav=list(dicc.keys())\n",
    "    u=False\n",
    "    for i in llav:\n",
    "        if i==llave:\n",
    "            u=True\n",
    "            del dicc[llave]\n",
    "            return dicc\n",
    "            break\n",
    "    if u==False:\n",
    "        print(\"La llave \"+str(llave)+\" no fue encontrada en el diccionario\")\n",
    "\n",
    "d={'julian': 20, 'pablo': 10, 'juana': 15, 'laura': 12}\n",
    "dic=eliminar(d,\"julian\")\n",
    "print(\"nuevo diccionario: \", dic)\n",
    "a=eliminar(d,\"ana\")"
   ]
  },
  {
   "cell_type": "markdown",
   "metadata": {},
   "source": [
    "### 12\n",
    "Escriba una función que arroje los valores mínimo y máximo de un diccionario."
   ]
  },
  {
   "cell_type": "code",
   "execution_count": 93,
   "metadata": {},
   "outputs": [
    {
     "name": "stdout",
     "output_type": "stream",
     "text": [
      "Valor minimo:  10\n",
      "valor maximo:  20\n"
     ]
    }
   ],
   "source": [
    "def encontrar(dicc):\n",
    "    ## Asumo que todos los valores en el diccionario son del mismo tipo\n",
    "    val=list(dicc.values())\n",
    "    minimo=min(val)\n",
    "    maximo=max(val)\n",
    "    print(\"Valor minimo: \", minimo)\n",
    "    print(\"valor maximo: \", maximo)\n",
    "\n",
    "d={'julian': 20, 'pablo': 10, 'juana': 15, 'laura': 12}\n",
    "encontrar(d)\n",
    "    \n",
    "    "
   ]
  },
  {
   "cell_type": "markdown",
   "metadata": {},
   "source": [
    "### 13"
   ]
  },
  {
   "cell_type": "markdown",
   "metadata": {},
   "source": [
    "sentence = \"the quick brown fox jumps over the lazy dog\"\n",
    "words = sentence.split()\n",
    "word_lengths = []\n",
    "for word in words:\n",
    "    if word != \"the\":\n",
    "        word_lengths.append(len(word)) \n",
    " \n",
    "Simplifique el código anterior combinando las líneas 3 a 6 usando list comprehension. Su código final deberá entonces tener tres líneas."
   ]
  },
  {
   "cell_type": "code",
   "execution_count": 102,
   "metadata": {},
   "outputs": [
    {
     "name": "stdout",
     "output_type": "stream",
     "text": [
      "[5, 5, 3, 5, 4, 4, 3]\n"
     ]
    }
   ],
   "source": [
    "sentence = \"the quick brown fox jumps over the lazy dog\"\n",
    "words = sentence.split() \n",
    "word_lengths_mio = [len(x) for x in words if x!=\"the\"]\n",
    "#################### prueba de que esta bien\n",
    "print(word_lengths_mio)\n"
   ]
  },
  {
   "cell_type": "markdown",
   "metadata": {},
   "source": [
    "### 14"
   ]
  },
  {
   "cell_type": "markdown",
   "metadata": {},
   "source": [
    "Escriba UNA línea de código que tome la lista <mark>a</mark> y arroje una nueva lista con solo los elementos pares de <mark>a</mark>."
   ]
  },
  {
   "cell_type": "code",
   "execution_count": 103,
   "metadata": {},
   "outputs": [
    {
     "name": "stdout",
     "output_type": "stream",
     "text": [
      "[2, 4, 6, 8, 20, 22, 44]\n"
     ]
    }
   ],
   "source": [
    "## En realidad dos por que necesito escribir la lista a\n",
    "a=[1,2,3,4,5,6,7,8,9,20,22,44]\n",
    "print([x for x in a if x%2==0])\n"
   ]
  },
  {
   "cell_type": "markdown",
   "metadata": {},
   "source": [
    "### 15"
   ]
  },
  {
   "cell_type": "markdown",
   "metadata": {},
   "source": [
    "Escriba UNA línea de código que tome la lista <mark>a</mark> del ejercicio 14 y multiplique todos sus valores."
   ]
  },
  {
   "cell_type": "code",
   "execution_count": 105,
   "metadata": {},
   "outputs": [],
   "source": [
    "from functools import reduce"
   ]
  },
  {
   "cell_type": "code",
   "execution_count": 106,
   "metadata": {},
   "outputs": [
    {
     "data": {
      "text/plain": [
       "7025356800"
      ]
     },
     "execution_count": 106,
     "metadata": {},
     "output_type": "execute_result"
    }
   ],
   "source": [
    "reduce(lambda x,y: x*y, a)"
   ]
  },
  {
   "cell_type": "markdown",
   "metadata": {},
   "source": [
    "### 16"
   ]
  },
  {
   "cell_type": "markdown",
   "metadata": {},
   "source": [
    "Usando \"list comprehension\", cree una lista con las 36 combinaciones de un par de dados, como tuplas: [(1,1), (1,2),...,(6,6)]."
   ]
  },
  {
   "cell_type": "code",
   "execution_count": 107,
   "metadata": {
    "scrolled": false
   },
   "outputs": [
    {
     "data": {
      "text/plain": [
       "[(1, 1),\n",
       " (1, 2),\n",
       " (1, 3),\n",
       " (1, 4),\n",
       " (1, 5),\n",
       " (1, 6),\n",
       " (2, 1),\n",
       " (2, 2),\n",
       " (2, 3),\n",
       " (2, 4),\n",
       " (2, 5),\n",
       " (2, 6),\n",
       " (3, 1),\n",
       " (3, 2),\n",
       " (3, 3),\n",
       " (3, 4),\n",
       " (3, 5),\n",
       " (3, 6),\n",
       " (4, 1),\n",
       " (4, 2),\n",
       " (4, 3),\n",
       " (4, 4),\n",
       " (4, 5),\n",
       " (4, 6),\n",
       " (5, 1),\n",
       " (5, 2),\n",
       " (5, 3),\n",
       " (5, 4),\n",
       " (5, 5),\n",
       " (5, 6),\n",
       " (6, 1),\n",
       " (6, 2),\n",
       " (6, 3),\n",
       " (6, 4),\n",
       " (6, 5),\n",
       " (6, 6)]"
      ]
     },
     "execution_count": 107,
     "metadata": {},
     "output_type": "execute_result"
    }
   ],
   "source": [
    "[(x,y) for x in range(1,7) for y in range(1,7)]"
   ]
  },
  {
   "cell_type": "markdown",
   "metadata": {},
   "source": [
    "# Nota final 5.0"
   ]
  },
  {
   "cell_type": "markdown",
   "metadata": {},
   "source": [
    "---"
   ]
  }
 ],
 "metadata": {
  "anaconda-cloud": {},
  "kernelspec": {
   "display_name": "Python 3",
   "language": "python",
   "name": "python3"
  },
  "language_info": {
   "codemirror_mode": {
    "name": "ipython",
    "version": 3
   },
   "file_extension": ".py",
   "mimetype": "text/x-python",
   "name": "python",
   "nbconvert_exporter": "python",
   "pygments_lexer": "ipython3",
   "version": "3.7.1"
  }
 },
 "nbformat": 4,
 "nbformat_minor": 1
}
