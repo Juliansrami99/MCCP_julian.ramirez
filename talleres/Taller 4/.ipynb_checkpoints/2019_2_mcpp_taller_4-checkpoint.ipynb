{
 "cells": [
  {
   "cell_type": "markdown",
   "metadata": {},
   "source": [
    "# Taller 4\n",
    "Métodos Computacionales para Políticas Públicas - URosario\n",
    "\n",
    "**Entrega: viernes 30-ago-2019 11:59 PM**"
   ]
  },
  {
   "cell_type": "markdown",
   "metadata": {},
   "source": [
    "<div class=\"alert alert-success\">\n",
    "**Julián Santiago Ramírez** <br><br>\n",
    "julians.ramirez@urosario.edu.co\n",
    "</div>"
   ]
  },
  {
   "cell_type": "markdown",
   "metadata": {},
   "source": [
    "## Instrucciones:\n",
    "- Guarde una copia de este *Jupyter Notebook* en su computador, idealmente en una carpeta destinada al material del curso.\n",
    "- Modifique el nombre del archivo del *notebook*, agregando al final un guión inferior y su nombre y apellido, separados estos últimos por otro guión inferior. Por ejemplo, mi *notebook* se llamaría: mcpp_taller4_santiago_matallana\n",
    "- Marque el *notebook* con su nombre y e-mail en el bloque verde arriba. Reemplace el texto \"[Su nombre acá]\" con su nombre y apellido. Similar para su e-mail.\n",
    "- Desarrolle la totalidad del taller sobre este *notebook*, insertando las celdas que sea necesario debajo de cada pregunta. Haga buen uso de las celdas para código y de las celdas tipo *markdown* según el caso.\n",
    "- Recuerde salvar periódicamente sus avances.\n",
    "- Cuando termine el taller:\n",
    "    1. Descárguelo en PDF.\n",
    "    2. Suba los dos archivos (.pdf y .ipynb) a su repositorio en GitHub antes de la fecha y hora límites.\n",
    "\n",
    "(Todos los ejercicios tienen el mismo valor.)"
   ]
  },
  {
   "cell_type": "markdown",
   "metadata": {},
   "source": [
    "---"
   ]
  },
  {
   "cell_type": "markdown",
   "metadata": {},
   "source": [
    "## Zelle, Exercises 6.8 (p. 159):\n",
    "\n",
    "- True/False: 1-10\n",
    "- Multiple choice: 2, 3, 6, 7, 10\n",
    "- Programming Exercises: 1, 3, 4, 11, 12, 13"
   ]
  },
  {
   "cell_type": "markdown",
   "metadata": {},
   "source": [
    "##  True/False 1-10"
   ]
  },
  {
   "cell_type": "markdown",
   "metadata": {},
   "source": [
    "#### 1) Programmers rarely define their own functions.\n",
    "\n",
    "Rta: F"
   ]
  },
  {
   "cell_type": "markdown",
   "metadata": {},
   "source": [
    "#### 2) A function may only be called at one place in a program. \n",
    "\n",
    "Rta: F\n"
   ]
  },
  {
   "cell_type": "markdown",
   "metadata": {},
   "source": [
    "#### 3)\tInformation can be passed into a function through parameters\n",
    "\n",
    "Rta: T"
   ]
  },
  {
   "cell_type": "markdown",
   "metadata": {},
   "source": [
    "#### 4)\tEvery Python function returns some value.\n",
    "Rta: T. Aclaración: El libro menciona que en caso de que dentro de la función no se defina un return o algun print, la función retornaría \"None\". Este \"none\" no es visto por el usuario, ni es almacenado en alguna variable."
   ]
  },
  {
   "cell_type": "markdown",
   "metadata": {},
   "source": [
    "#### 5) In Python, some parameters are passed by reference.\n",
    "\n",
    "Rta: F"
   ]
  },
  {
   "cell_type": "markdown",
   "metadata": {},
   "source": [
    "#### 6)\tIn Python, a function can return only one value\n",
    "\n",
    "Rta: F"
   ]
  },
  {
   "cell_type": "markdown",
   "metadata": {},
   "source": [
    "#### 7)\tPython functions can never modify a parameter.\n",
    "\n",
    "Rta: T"
   ]
  },
  {
   "cell_type": "markdown",
   "metadata": {},
   "source": [
    "#### 8)\tOne reason to use functions is to reduce code duplication.\n",
    "\n",
    "Rta: T"
   ]
  },
  {
   "cell_type": "markdown",
   "metadata": {},
   "source": [
    "#### 9.)Variables defined in a function are local to that function\n",
    "\n",
    "Rta: T"
   ]
  },
  {
   "cell_type": "markdown",
   "metadata": {},
   "source": [
    "#### 10) It’s a bad idea to define new functions if it makes a program longer.\n",
    "\n",
    "Rta: F"
   ]
  },
  {
   "cell_type": "markdown",
   "metadata": {},
   "source": [
    "## Multiple choice"
   ]
  },
  {
   "cell_type": "markdown",
   "metadata": {},
   "source": [
    "#### 2.\tA Python function definition begins with\n",
    "a) def\n",
    "b) define\n",
    "c) function\n",
    "d) defun\n",
    "\n",
    "Rta: a"
   ]
  },
  {
   "cell_type": "markdown",
   "metadata": {},
   "source": [
    "#### 3.\tA function can send output back to the program with a(n)\n",
    "a)\treturn\tb) print\tc) assignment\td) SASE\n",
    "\n",
    "Rta: a\n"
   ]
  },
  {
   "cell_type": "markdown",
   "metadata": {},
   "source": [
    "#### 6.\tIn Python, actual parameters are passed to functions\n",
    "a)\tby value\tb) by reference\tc) at random\td) by networking\n",
    "\n",
    "Rta: a"
   ]
  },
  {
   "cell_type": "markdown",
   "metadata": {},
   "source": [
    "#### 7.\tWhich of the following is not a reason to use functions?\n",
    "\n",
    "a)\tto reduce code duplication\n",
    "\n",
    "b)\tto make a program more modular\n",
    "\n",
    "c)\tto make a program more self-documenting\n",
    "\n",
    "d)\tto demonstrate intellectual superiority\n",
    "\n",
    "Rta: d"
   ]
  },
  {
   "cell_type": "markdown",
   "metadata": {},
   "source": [
    "#### 10.\tA function can modify the value of an actual parameter only if it’s\n",
    "a)\tmutable\tb) a list\tc) passed by reference\td) a variable\n",
    "\n",
    "Rta: a"
   ]
  },
  {
   "cell_type": "markdown",
   "metadata": {},
   "source": [
    "## Programming exercises"
   ]
  },
  {
   "cell_type": "markdown",
   "metadata": {},
   "source": [
    "### 1.\tWrite a program to print the lyrics of the song “Old MacDonald.” Your program should print the lyrics for five different animals, similar to the example verse below."
   ]
  },
  {
   "cell_type": "code",
   "execution_count": 4,
   "metadata": {},
   "outputs": [
    {
     "name": "stdout",
     "output_type": "stream",
     "text": [
      "Old McDonald had a farm, Ee-igh, Ee-igh, Oh!\n",
      "And on that farm he had a caballo,Ee-igh, Ee-igh, Oh!\n",
      "With a brrrrr,brrrrr here and a brrrrr,brrrrr there\n",
      "Here a brrrrr, there a brrrrr, everywhere a brrrrr,brrrrr\n",
      "Old McDonald had a farm, Ee-igh, Ee-igh, Oh!\n",
      "And on that farm he had a vaca,Ee-igh, Ee-igh, Oh!\n",
      "With a moo,moo here and a moo,moo there\n",
      "Here a moo, there a moo, everywhere a moo,moo\n",
      "Old McDonald had a farm, Ee-igh, Ee-igh, Oh!\n",
      "And on that farm he had a perro,Ee-igh, Ee-igh, Oh!\n",
      "With a wof,wof here and a wof,wof there\n",
      "Here a wof, there a wof, everywhere a wof,wof\n",
      "Old McDonald had a farm, Ee-igh, Ee-igh, Oh!\n",
      "And on that farm he had a gato,Ee-igh, Ee-igh, Oh!\n",
      "With a miau,miau here and a miau,miau there\n",
      "Here a miau, there a miau, everywhere a miau,miau\n",
      "Old McDonald had a farm, Ee-igh, Ee-igh, Oh!\n",
      "And on that farm he had a pollo,Ee-igh, Ee-igh, Oh!\n",
      "With a pio,pio here and a pio,pio there\n",
      "Here a pio, there a pio, everywhere a pio,pio\n",
      "Old McDonald had a farm, Ee-igh, Ee-igh, Oh!\n"
     ]
    }
   ],
   "source": [
    "def principal():\n",
    "    print(\"Old McDonald had a farm, Ee-igh, Ee-igh, Oh!\")\n",
    "\n",
    "def parte_animal(animal,sonido):\n",
    "    palabra_1=\"And on that farm he had a \"+ animal+\",Ee-igh, Ee-igh, Oh!\" \n",
    "    palabra_2=\"With a \"+ sonido+\",\"+sonido+ \" here and a \"+ sonido+\",\"+sonido+\" there\"\n",
    "    palabra_3=\"Here a \"+ sonido+\",\"+\" there a \"+ sonido+\", everywhere a \"+sonido+\",\"+sonido\n",
    "    print(palabra_1)\n",
    "    print(palabra_2)\n",
    "    print(palabra_3)\n",
    "    \n",
    "def total(animales):\n",
    "    principal()\n",
    "    for i in range(0,len(animales)):\n",
    "        parte_animal(animales[i][0],animales[i][1])\n",
    "        principal()\n",
    "    \n",
    "lista_a=[[\"caballo\",\"brrrrr\"],[\"vaca\",\"moo\"],[\"perro\",\"wof\"],[\"gato\",\"miau\"],[\"pollo\",\"pio\"]]  \n",
    "total(lista_a)"
   ]
  },
  {
   "cell_type": "markdown",
   "metadata": {},
   "source": [
    "### 3.\tWrite definitions for these functions: sphereArea(radius)  Returns the surface area of a sphere having the given radius. sphereVolume(radius)  Returns the volume of a sphere having the given radius. Use your functions to solve Programming Exercise 1 from Chapter 3.\n"
   ]
  },
  {
   "cell_type": "code",
   "execution_count": 10,
   "metadata": {},
   "outputs": [
    {
     "name": "stdout",
     "output_type": "stream",
     "text": [
      "Calculamos el área y volumen de una esfera, con un radio que da el usuario\n",
      "Radio de la esfera2\n",
      "Volumen de la esfera: 33.510321638293334\n",
      "Area de la esfera :50.26548245744\n"
     ]
    }
   ],
   "source": [
    "# Variabl global\n",
    "pi=3.14159265359\n",
    "\n",
    "def sphereArea(radius):\n",
    "    # Formula del área\n",
    "    area = 4*pi*radius**2 \n",
    "    return area\n",
    "\n",
    "def sphereVolume(radius):\n",
    "    # Formula del volumen\n",
    "    volumen = (4/3*pi*radius**3) \n",
    "    return volumen\n",
    "\n",
    "def principal():\n",
    "    print(\"Calculamos el área y volumen de una esfera, con un radio que da el usuario\")\n",
    "    radio = float(input(\"Radio de la esfera\"))\n",
    "    vol = sphereVolume(radio)\n",
    "    area = sphereArea(radio)\n",
    "    print(\"Volumen de la esfera: \"+ str(vol) +'\\n'+ \"Area de la esfera :\"+ str(area))\n",
    "\n",
    "principal()"
   ]
  },
  {
   "cell_type": "markdown",
   "metadata": {},
   "source": [
    "### 4.\tWrite definitions for the following two functions: sumN(n)  returns the sum of the first n natural numbers. sumNCubes(n)  returns the sum of the cubes of the first n natural numbers.\n"
   ]
  },
  {
   "cell_type": "code",
   "execution_count": 18,
   "metadata": {},
   "outputs": [
    {
     "name": "stdout",
     "output_type": "stream",
     "text": [
      "lista de cubos: [0, 1, 8, 27, 64, 125, 216, 343]\n",
      "La suma de todos los numeros hasta 7 es: 28\n",
      "La suma de todos los cubos hasta 7 es:  784\n"
     ]
    }
   ],
   "source": [
    "def sumN(n):\n",
    "    final=n+1\n",
    "    tot=sum(range(0,final))\n",
    "    return tot\n",
    "\n",
    "def sumNCubes(n):\n",
    "    final=n+1\n",
    "    lista=[]\n",
    "    for i in range(0,final):\n",
    "        lista.append(i**3)\n",
    "    tot=sum(lista)\n",
    "    print(\"lista de cubos:\",lista)\n",
    "    return tot\n",
    "\n",
    "def prin(n):\n",
    "    su = sumN(n)\n",
    "    cubos = sumNCubes(n)\n",
    "    print(\"La suma de todos los numeros hasta \"+str(n)+\" es:\", su)\n",
    "    print(\"La suma de todos los cubos hasta \"+str(n)+\" es: \", cubos)\n",
    "\n",
    "prin(7)"
   ]
  },
  {
   "cell_type": "markdown",
   "metadata": {},
   "source": [
    "### 11.\tWrite and test a function to meet this specification. squareEach(nums)  nums is a list of numbers. Modifies the list by squaring each entry.\n",
    "\n"
   ]
  },
  {
   "cell_type": "code",
   "execution_count": 22,
   "metadata": {},
   "outputs": [
    {
     "name": "stdout",
     "output_type": "stream",
     "text": [
      "lista:\n",
      "[2, 3, 4, 5, 6, 7]\n",
      "Lista modificada:\n",
      "[4, 9, 16, 25, 36, 49]\n"
     ]
    }
   ],
   "source": [
    "def squareEach(nums):\n",
    "    for i in range(0,len(nums)):\n",
    "        nums[i] = nums[i]**2\n",
    "\n",
    "def principal(lista):\n",
    "    print(\"lista:\")\n",
    "    print(lista)\n",
    "    squareEach(lista)\n",
    "    print(\"Lista modificada:\")\n",
    "    print(lista)\n",
    "\n",
    "lista=[2,3,4,5,6,7]\n",
    "principal(lista)"
   ]
  },
  {
   "cell_type": "markdown",
   "metadata": {},
   "source": [
    "### 12.\tWrite and test a function to meet this specification. sumList(nums)  nums is a list of numbers. Returns the sum of the numbers in the list.\n",
    "\n"
   ]
  },
  {
   "cell_type": "code",
   "execution_count": 25,
   "metadata": {},
   "outputs": [
    {
     "name": "stdout",
     "output_type": "stream",
     "text": [
      "Lista:  [1, 2, 3, 4, 5, 6, 7, 8, 9]\n",
      "La suma de la lista: \n",
      "45\n"
     ]
    }
   ],
   "source": [
    "def sumList(nums):\n",
    "    return sum(nums)\n",
    "\n",
    "def principal(lista):\n",
    "    print(\"Lista: \",lista)\n",
    "    print(\"La suma de la lista: \")\n",
    "    suma=sumList(lista)\n",
    "    print(suma)\n",
    "    return suma\n",
    "\n",
    "lista=[1,2,3,4,5,6,7,8,9]\n",
    "a=principal(lista)"
   ]
  },
  {
   "cell_type": "markdown",
   "metadata": {},
   "source": [
    "### 13.\tWrite and test a function to meet this specification. toNumbers(strList)  strList is a list of strings, each of which represents a number.  Modi- fies each entry in the list by converting it to a number.\n"
   ]
  },
  {
   "cell_type": "code",
   "execution_count": 28,
   "metadata": {},
   "outputs": [
    {
     "name": "stdout",
     "output_type": "stream",
     "text": [
      "Lista de numeros en string: \n",
      "['1', '2', '3', '4', '5']\n",
      "Lista modificada: \n",
      "[1, 2, 3, 4, 5]\n"
     ]
    }
   ],
   "source": [
    "def toNumbers(strList):\n",
    "    for i in range(0,len(strList)):\n",
    "        strList[i] = int(strList[i])\n",
    "\n",
    "def principal(lista):\n",
    "    print(\"Lista de numeros en string: \")\n",
    "    print(lista)\n",
    "    toNumbers(lista)\n",
    "    print(\"Lista modificada: \")\n",
    "    print(lista)\n",
    "\n",
    "lista=[\"1\",\"2\",\"3\",\"4\",\"5\"]\n",
    "principal(lista)"
   ]
  }
 ],
 "metadata": {
  "anaconda-cloud": {},
  "kernelspec": {
   "display_name": "Python 3",
   "language": "python",
   "name": "python3"
  },
  "language_info": {
   "codemirror_mode": {
    "name": "ipython",
    "version": 3
   },
   "file_extension": ".py",
   "mimetype": "text/x-python",
   "name": "python",
   "nbconvert_exporter": "python",
   "pygments_lexer": "ipython3",
   "version": "3.6.5"
  }
 },
 "nbformat": 4,
 "nbformat_minor": 1
}
