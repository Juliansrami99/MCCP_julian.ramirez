{
 "cells": [
  {
   "cell_type": "markdown",
   "metadata": {},
   "source": [
    "## Proyecto Final MCPP"
   ]
  },
  {
   "cell_type": "markdown",
   "metadata": {},
   "source": [
    "#### Tipos de grafos\n",
    "\n",
    "##### Grafos dirigidos y no dirigidos\n",
    "\n",
    "La gran diferencia entre estos dos tipos de grafos es que los dirigidos especifican de que forma debo recorrer un grafo, es decir, existe un nodo inicial y uno final; mientras que en un grafo no dirigido no existe un orden específico en recorrer el grafo. (Ver presentación para mayor claridad)."
   ]
  },
  {
   "cell_type": "code",
   "execution_count": 25,
   "metadata": {},
   "outputs": [],
   "source": [
    "### Librerías que se requieren para el proyecto\n",
    "import itertools as it\n",
    "import collections as co\n",
    "import pickle\n",
    "import numpy as np"
   ]
  },
  {
   "cell_type": "markdown",
   "metadata": {},
   "source": [
    "La idea es crear dos clases, la primera yo defino un grafo no dirigido de las distintas estaciones del transmilenio, a su vez en esta clase podre crear los diferentes caminos que puedo tener para llegar de una estación a otra."
   ]
  },
  {
   "cell_type": "markdown",
   "metadata": {},
   "source": [
    "Para ello requiero definir diferentes conceptos:\n",
    "#### Vecinos de un nodo\n",
    "Son todos los nodos que estan conectados con un nodo específico.\n",
    "#### Vecindades\n",
    "Es un diccionario que consta de todos los nodos con sus respectivos vecinos."
   ]
  },
  {
   "cell_type": "markdown",
   "metadata": {},
   "source": [
    "##### Específicaciones dentro de la clase: estaciones_transmilenio_no_dirigido\n",
    "\n",
    "- Los lados o conexiones estan dados por una lista: [\"a\",\"b\"] en este caso los elementos son nodos, como aquí no importa el orden [\"a\",\"b\"] es igual a [\"b\",\"a\"].\n",
    "- Los nodos los definiré con numeros. Especificaré mas adelante la relacion entre numeros y estaciones"
   ]
  },
  {
   "cell_type": "code",
   "execution_count": 12,
   "metadata": {},
   "outputs": [],
   "source": [
    "### La clase no dirigido, me permite crear un grafo no dirigdo\n",
    "class estaciones_transmilenio_no_dirigido:\n",
    "    '''\n",
    "    Creo un constructor: Para realizar el grafo este consta de las estaciones de transmilenio que \n",
    "    representan los nodos del grafo y los lados que son las conexiones que hay entre las diferentes \n",
    "    estaciones\n",
    "    ''' \n",
    "    def __init__(self, nodos, lados):\n",
    "        self.estaciones=nodos\n",
    "        self.conexiones=lados\n",
    "        # Agrego un nuevo atributo que será un diccionario de las vencidades \n",
    "        self.vecindades={}\n",
    "    # Funcion que aplicamos en anteriores proyectos para crear vecindades\n",
    "    def crearvecindades(self):\n",
    "        if self.vecindades=={}: \n",
    "            # Recorro todas las conexiones posibles en las diferentes estaciones de transmilenio\n",
    "            for j in self.conexiones:\n",
    "                # Pregunto si el nodo en la posición 0 esta ya creado en las vecindades\n",
    "                if j[0] in self.vecindades:\n",
    "                    a=self.vecindades[j[0]]+(j[1],)\n",
    "                    del self.vecindades[j[0]]\n",
    "                    self.vecindades[j[0]]=a\n",
    "                else:\n",
    "                    self.vecindades[j[0]]=(j[1],)\n",
    "                if j[1] in self.vecindades:\n",
    "                    a=self.vecindades[j[1]]+(j[0],)\n",
    "                    del self.vecindades[j[1]]\n",
    "                    self.vecindades[j[1]]=a\n",
    "                else:\n",
    "                    self.vecindades[j[1]]=(j[0],)\n",
    "        # Todos los posibles caminos de un nodo a otro\n",
    "    def crear_caminos(self,inicial, final):\n",
    "        # Se requiere de la libreria Collections\n",
    "        cola=co.deque()\n",
    "        cola.append((inicial,[inicial]))\n",
    "        while cola:\n",
    "            (v,camino)=cola.pop()\n",
    "            for vertice in set(self.vecindades[v])-set(camino):\n",
    "                if vertice==final:\n",
    "                    yield camino+[vertice]\n",
    "                else:\n",
    "                    cola.append((vertice,camino+[vertice]))"
   ]
  },
  {
   "cell_type": "markdown",
   "metadata": {},
   "source": [
    "Aca muestro el funcionamiento de la clase: Creo un grafo con 5 nodos y a su vez la union que hay entre los diferentes nodos."
   ]
  },
  {
   "cell_type": "code",
   "execution_count": 3,
   "metadata": {},
   "outputs": [
    {
     "name": "stdout",
     "output_type": "stream",
     "text": [
      "{2: (1,), 4: (3, 5), 5: (4,), 3: (4, 1), 1: (2, 3)}\n"
     ]
    }
   ],
   "source": [
    "a=estaciones_transmilenio_no_dirigido([1,2,3,4,5],[(1,2),(3,4),(4,5),(3,1)])\n",
    "a.crearvecindades()\n",
    "print(a.vecindades)\n"
   ]
  },
  {
   "cell_type": "markdown",
   "metadata": {},
   "source": [
    "Muestro el diccionario de como se generan las vecindades"
   ]
  },
  {
   "cell_type": "markdown",
   "metadata": {},
   "source": [
    "Ahora para generar un grafo con mas características realizamos un grafo donde los lados tienen dos importantes aspectos:\n",
    "\n",
    "- Capacidad: Para explicar este concepto daré un ejemplo: Imaginemos una tubería, esta tiene un máximo de capacidad para que fluya el agua. Para el caso de transmilenio, para que la gente se transporte de una estación a otra el transmilenio cuenta con una capacidad máxima de personas en el trasnporte\n",
    "- Flujo: Es la cantidad de personas que se encuentran actualmente dentro el transporte\n",
    "\n",
    "Un apunte redundante es que es necesario tener en cuenta que el flujo no puede ser nunca mayor a la capacidad.\n",
    "\n",
    "En los lados de un grafo se identifica a un nodo como cabeza o como cola, depende de la dirección del lado"
   ]
  },
  {
   "cell_type": "markdown",
   "metadata": {},
   "source": [
    "### Algoritmo Ford-Fulkerson"
   ]
  },
  {
   "cell_type": "markdown",
   "metadata": {},
   "source": [
    "Este algoritmo me permite encontrar la forma óptima de que el flujo corra de manera máxima a través de la red. Para empezar hay que tener en cuenta diferentes aspectos para poder aplicar el algoritmo:\n",
    "\n",
    "- Fuente: Nodo donde inicia el flujo a correr.\n",
    "- Desague: Nodo final, donde termina el flujo.\n",
    "\n",
    "Para el caso del transmilenio, una cierta cantidad de personas parten de una estación y buscan llegar a otra. Entonces la intención de este proyecto es: Primero, generar una simulación aleatoria del funcionamiento del algoritmo; Segundo, poder utilizar la encuesta de movilidad para poder ver como se mueve la gente en la ciudad, es decir, de donde parten y para donde van. De esta manera, se crearía una política que optimice los transmilenios en funcionamiento y tambien evidenciar si es necesario tener mas líneas de transporte."
   ]
  },
  {
   "cell_type": "code",
   "execution_count": 13,
   "metadata": {},
   "outputs": [],
   "source": [
    "class red:\n",
    "\n",
    "    #Para crear una red tendremos que definir los nodos que estaran, los lados (con capacidad y flujo), la fuente y el desague\n",
    "    '''\n",
    "    Atributos de la clase del grafo\n",
    "    los lados se definen de la siguiente manera:\n",
    "    [(1,2)] donde 1 es la cola y el 2 es la cabeza\n",
    "    '''\n",
    "    def __init__(self, nodos, lados,fuente,desague):\n",
    "        self.n=nodos\n",
    "        self.e=lados\n",
    "        self.f=fuente\n",
    "        self.d=desague\n",
    "    \n",
    "    '''\n",
    "    Funcion para convertir una red en un grafo sin direcciones\n",
    "    '''\n",
    "    #Esta funcion nos permitira transformar el digrafo en un grafo sin direcciones\n",
    "    def no_diri (self):\n",
    "        lados_no_dirigidos=[]\n",
    "        for i in self.e:\n",
    "            lados_no_dirigidos.append(i[0])\n",
    "            \n",
    "        k=estaciones_transmilenio_no_dirigido(self.n,lados_no_dirigidos)\n",
    "        return k\n",
    "    \n",
    "    '''\n",
    "    Los nodos se caracterizan por de esa estacion de transmilenio sale y entra gente, por tal motivo con las siguientes funciones\n",
    "    lo que deseo mostrar es como podemos definir cuantas personas entran y salen de una estación.\n",
    "    '''\n",
    "    # Funcion que nos dice que tanto flujo le sale a un nodo\n",
    "    def f_mas(self,nodo):\n",
    "        # Variable que empieza diciendo que sale 0 \n",
    "        f=0\n",
    "        # Recorro los lados del grafo\n",
    "        for i in self.e:\n",
    "            # Con este 'if' busco al nodo \n",
    "            if i[0][0]==nodo:\n",
    "                j=i[1]\n",
    "                f=f+j['ff']\n",
    "        return f        \n",
    "    #Funcion que dice que tanto flujo le entra a un nodo\n",
    "    def f_menos(self,nodo):\n",
    "        f=0\n",
    "        for i in self.e:\n",
    "            if i[0][1]==nodo:\n",
    "                j=i[1]\n",
    "                f=f+j['ff']\n",
    "        return f\n",
    "    # Funcion para definir la tolerancia de un camino f aumentador    \n",
    "    def tolerancia(self,flujo):\n",
    "        lista_excesos=[]\n",
    "        for i in flujo:\n",
    "            # Si el lado va en \"direccion\" el exceso sera la capacidad - el flujo\n",
    "            if i[0][0]<i[0][1]:\n",
    "                e=i[1]['cap']-i[1]['ff']\n",
    "                lista_excesos.append(e)\n",
    "            # De lo contrario el exceso de un lado que va en \"contra\" sera el mismo flujo, siempre y cuando este sea positivo\n",
    "            elif i[0][0]>i[0][1] and i[1]['ff']>0:\n",
    "                e=i[1]['ff']\n",
    "                lista_excesos.append(e)\n",
    "        #La tolerancia sera el minimo de los excesos del camino        \n",
    "        tol=min(lista_excesos)\n",
    "        return tol\n",
    "\n",
    "    #Funcion para ver si un flujo es factible\n",
    "    def flujo_factible(self):\n",
    "        x=True\n",
    "        lista_nodos=[]\n",
    "        for j in self.n:\n",
    "            #Miramos los nodos diferentes a la fuente y el desague\n",
    "            if j!=self.f and j!=self.d:\n",
    "                h=self.f_mas(j)\n",
    "                k=self.f_menos(j)\n",
    "                # Para estos nodos, lo que entra debe ser igual a lo que sale\n",
    "                if h==k:\n",
    "                    x= True\n",
    "                else:\n",
    "                    return False\n",
    "        #Ahora para los lados la capacidad tiene que ser mayor o igual al flujo y este a su vez mayor o igual a cero\n",
    "        for i in self.e:\n",
    "            j=i[1]\n",
    "            if j['cap']>=j['ff'] and j['ff']>=0 and x==True:\n",
    "                return True\n",
    "            else:\n",
    "                return False\n",
    "\n",
    "    #Funcion que nos permite ver si existe el lado en el camino f aumentador\n",
    "    def existe_lado(self,flujo,k):\n",
    "        for i in flujo:\n",
    "            if k in i:\n",
    "                return True\n",
    "            else:\n",
    "                return False\n",
    "\n",
    "    #Algoritmo que nos permitira encontrar el maximo flujo y el corte minimo\n",
    "    def ford_fulkerson(self,flujo):\n",
    "        #Inicializamos S y R={s} (fuente)\n",
    "        #Ademas de ello creamos variables que usaremos mas adelante\n",
    "        s=[]\n",
    "        r=[]\n",
    "        r.append(self.f)\n",
    "        #Se almacena una primera version del camino aumentador\n",
    "        camino_aumentador=[]\n",
    "        #los lados que no tendrian que hacer parte del camino f aumentador\n",
    "        nodos_no=[]\n",
    "        camino_aumentador.append(self.f)\n",
    "        #Buscamos un nodo que este en R pero no en S\n",
    "        for i in r:\n",
    "            if self.d not in r and r!=s:\n",
    "                if i not in s:\n",
    "                    for k in flujo:\n",
    "                        h=k[0]\n",
    "                        n=k[1]\n",
    "                        if i in h:\n",
    "                            #Si este nodo es la cola de otro nodo se realiza lo sig\n",
    "                            if i==h[0]:\n",
    "                                #Si la cabeza no esta en s\n",
    "                                if h[1] not in s:\n",
    "                                    #Y la capacidad del arco que los une es mayor que el flujo, donde la cabeza no pertenece a r\n",
    "                                    if n['cap']>n['ff'] and h[1] not in r:\n",
    "                                        #Agregamos el nodo a R\n",
    "                                        r.append(h[1])\n",
    "                                        # Y tambien a la primera version del camino aumentador\n",
    "                                        camino_aumentador.append(h[1])\n",
    "                                    # En caso de que no cumpla la condicion ese lado no puede ir en el camino f aumentador\n",
    "                                    elif n['cap']<=n['ff']:\n",
    "                                        nodos_no.append([i,h[1]])\n",
    "                            #Ahora si este nodo es la cabeza de otro nodo\n",
    "                            elif i==h[1]:\n",
    "                                #Si la cola no pertenece a S\n",
    "                                if h[0] not in s:\n",
    "                                    # Quiere decir que el lado va en direccion contraria por tanto mirarmos si el el flujo es positivo\n",
    "                                    # Luego realizamos el mismo proceso de la otra condicion\n",
    "                                    if n['ff']>0 and h[0] not in r:\n",
    "                                        r.append(h[0])\n",
    "                                        camino_aumentador.append(h[0])\n",
    "                                    elif n['ff']<=0:\n",
    "                                        nodos_no.append([h[0],i])\n",
    "                    #Decimos que el nodo ya esta observado y lo agregamos a S                       \n",
    "                    s.append(i)\n",
    "\n",
    "        # Si despues de la iteracion el desague esta en R\n",
    "        if self.d in r:\n",
    "            #g sera el grafo no dirigida\n",
    "            g=self.no_diri()\n",
    "            g.crearvecindades()\n",
    "            #Vecindades\n",
    "            vec=g.vecindades\n",
    "            #Todos los posibles caminos de la fuente al desague\n",
    "            u=g.crear_caminos(self.f,self.d)\n",
    "            caminos=list(u)\n",
    "            #Basicamente eliminamos los caminos que no correspondan al grafo dirigido y tambien los que tengan los lados que no deseamos que esten el camino\n",
    "            for i in nodos_no:\n",
    "                x1=i[0]\n",
    "                x2=i[1]\n",
    "                for j in caminos:\n",
    "                    for a in range(0,len(j)):\n",
    "                        if (a+1)<len(j):\n",
    "                            g1=j[a]\n",
    "                            g2=j[a+1]\n",
    "                            if g1==x1 and g2==x2:\n",
    "                                caminos.remove(j)\n",
    "                                \n",
    "            # Para garantizar que sea aumentador, todos los nodos de este camino deben estar en la primera version del camino aumentador    \n",
    "            for i in caminos:\n",
    "                for h in i:\n",
    "                    if h not in camino_aumentador:\n",
    "                        caminos.remove(i)\n",
    "            \n",
    "\n",
    "                \n",
    "            #Para tener el flujo maximo requerimos cambiar el flujo dada una nueva tolerancia    \n",
    "            f_aumentador=[]\n",
    "            for u in caminos:\n",
    "                for i in u:\n",
    "                    for j in u:\n",
    "                        for b in flujo:\n",
    "                            if(i,j)==b[0]:\n",
    "                                f_aumentador.append(b)\n",
    "\n",
    "            # Se encuentra la tolerancia del camino y modificamos el flujo dada las reglas\n",
    "            x=self.tolerancia(f_aumentador)\n",
    "            print ('tolerancia')\n",
    "            print (x)\n",
    "            for b in f_aumentador:\n",
    "                if b[0][0]<b[0][1]:\n",
    "                    b[1]['ff']=b[1]['ff']+x\n",
    "                elif b[0][0]>b[0][1]:\n",
    "                    b[1]['ff']=b[1]['ff']-x\n",
    "            \n",
    "            nodos=[]\n",
    "            for a in f_aumentador:\n",
    "                nodos.append(a[0])\n",
    "\n",
    "            for b in flujo:\n",
    "                if b[0] not in nodos:\n",
    "                    f_aumentador.append(b)\n",
    "            #Retornamos el max flujo\n",
    "            return f_aumentador\n",
    "        \n",
    "        # Si S=R retornamos el corte minimo de nodos       \n",
    "        elif s==r:\n",
    "            ## Corte de nodos\n",
    "            return s\n",
    "            "
   ]
  },
  {
   "cell_type": "code",
   "execution_count": 35,
   "metadata": {},
   "outputs": [],
   "source": [
    "k=red([1,2,3,4,5,6],[[(1,2),{'cap':200,'ff':100}],[(1,3),{'cap':200,'ff':0}],\\\n",
    "                     [(2,5),{'cap':100,'ff':100}],\\\n",
    "                     [(5,3),{'cap':100,'ff':100}],[(3,4),{'cap':100,'ff':100}],\\\n",
    "                     [(4,6),{'cap':200,'ff':100}],[(5,6),{'cap':200,'ff':0}]],1,6)"
   ]
  },
  {
   "cell_type": "code",
   "execution_count": 36,
   "metadata": {},
   "outputs": [
    {
     "name": "stdout",
     "output_type": "stream",
     "text": [
      "tolerancia\n",
      "100\n",
      "flujo maximo\n",
      "[[(1, 3), {'cap': 200, 'ff': 100}], [(5, 3), {'cap': 100, 'ff': 0}], [(5, 6), {'cap': 200, 'ff': 100}], [(1, 2), {'cap': 200, 'ff': 100}], [(2, 5), {'cap': 100, 'ff': 100}], [(3, 4), {'cap': 100, 'ff': 100}], [(4, 6), {'cap': 200, 'ff': 100}]]\n",
      "corte\n",
      "[1, 3, 2]\n"
     ]
    }
   ],
   "source": [
    "x=k.ford_fulkerson(k.e)\n",
    "print ('flujo maximo')\n",
    "print (x)\n",
    "j=k.ford_fulkerson(x)\n",
    "print ('corte')\n",
    "print (j)"
   ]
  },
  {
   "cell_type": "markdown",
   "metadata": {},
   "source": [
    "Base de datos: Encuesta de movilidad\n"
   ]
  },
  {
   "cell_type": "markdown",
   "metadata": {},
   "source": [
    "Creo las diferentes líneas de transmilenio "
   ]
  },
  {
   "cell_type": "code",
   "execution_count": null,
   "metadata": {},
   "outputs": [],
   "source": [
    "# Calle 26\n",
    "'''\n",
    "Portal dorado=1\n",
    "Modelia=2\n",
    "Normandia=3\n",
    "AvRojas=4\n",
    "Tiempo=5\n",
    "Salitre=6\n",
    "CAN=7\n",
    "Gobernacion=8\n",
    "QuintaParedes=9\n",
    "Corferias=10\n",
    "CiuUniver=11\n",
    "ConcejoBogota=12\n",
    "CentroMemoria=13\n",
    "Universidades=14\n",
    "'''\n",
    "estaciones_26=[()]\n",
    "\n"
   ]
  },
  {
   "cell_type": "code",
   "execution_count": 26,
   "metadata": {},
   "outputs": [],
   "source": [
    "pkl_file = open('viajes_df.pkl', 'rb')\n",
    "viajes = pickle.load(pkl_file)\n",
    "pkl_file.close()\n",
    "\n",
    "filtros = viajes.MEDIO_PREDOMINANTE.unique()\n",
    "viajes[\"INICIO\"] = viajes.apply(lambda row: row[\"HORA_INICIO\"][0:2]+\":00\",axis=1)\n",
    "viajes[\"FIN\"] = viajes.apply(lambda row: row[\"HORA_FIN\"][0:2]+\":00\",axis=1)\n",
    "locations = viajes\n",
    "locations = locations.drop(locations[locations.ZAT_ORIGEN != locations.ZAT_HOGAR].index)\n",
    "locations = locations.groupby(\"ZAT_HOGAR\").first()\n",
    "locations = locations.loc[:,[\"BARRIO\",\"longitude_o\", \"ZAT_ORIGEN\",\n",
    "                                 \"latitude_o\"]]\n",
    "    \n",
    "viajes['BARRIO_D'] = viajes['ZAT_DESTINO'].map(locations.set_index('ZAT_ORIGEN')['BARRIO'])\n",
    "viajes['BARRIO'] = viajes['ZAT_ORIGEN'].map(locations.set_index('ZAT_ORIGEN')['BARRIO'])\n",
    "viajes[\"FRANJA\"] = np.where((viajes[\"INICIO\"]>=\"00:00\") & (viajes[\"INICIO\"]<=\"05:00\"), \"Madrugada\", \"Hola\")\n",
    "viajes[\"FRANJA\"] = np.where((viajes[\"INICIO\"]>=\"06:00\") & (viajes[\"INICIO\"]<=\"12:00\"), \"Mañana\", viajes[\"FRANJA\"])\n",
    "viajes[\"FRANJA\"] = np.where((viajes[\"INICIO\"]>=\"13:00\") & (viajes[\"INICIO\"]<=\"18:00\"), \"Tarde\", viajes[\"FRANJA\"])\n",
    "viajes[\"FRANJA\"] = np.where((viajes[\"INICIO\"]>=\"19:00\") & (viajes[\"INICIO\"]<=\"23:00\"), \"Noche\", viajes[\"FRANJA\"])"
   ]
  },
  {
   "cell_type": "code",
   "execution_count": 34,
   "metadata": {},
   "outputs": [
    {
     "data": {
      "text/plain": [
       "'NUMERO_PERSONA'"
      ]
     },
     "execution_count": 34,
     "metadata": {},
     "output_type": "execute_result"
    }
   ],
   "source": [
    "viajes.columns[1]"
   ]
  },
  {
   "cell_type": "code",
   "execution_count": 30,
   "metadata": {},
   "outputs": [
    {
     "data": {
      "text/plain": [
       "0         4.611812\n",
       "1         4.652134\n",
       "2         4.611812\n",
       "3         4.615805\n",
       "4         4.659513\n",
       "5         4.695778\n",
       "6         4.659513\n",
       "7         4.652723\n",
       "8         4.611005\n",
       "9         4.634490\n",
       "10        4.611005\n",
       "11        4.634490\n",
       "12        4.611005\n",
       "13        4.615574\n",
       "14        4.609918\n",
       "15        4.615412\n",
       "16        4.609918\n",
       "17        4.676304\n",
       "18        4.609918\n",
       "19        4.688711\n",
       "20        4.616660\n",
       "21        4.638118\n",
       "22        4.616660\n",
       "23        4.577718\n",
       "24        4.638863\n",
       "25        4.701238\n",
       "26        4.638863\n",
       "27        4.751013\n",
       "28        4.620523\n",
       "29        4.566569\n",
       "            ...   \n",
       "144920    4.811361\n",
       "144921    4.700817\n",
       "144922    4.811361\n",
       "144923    4.811361\n",
       "144924    4.811361\n",
       "144925    4.811361\n",
       "144926    4.811361\n",
       "144927    4.811361\n",
       "144928    4.811361\n",
       "144929    4.811361\n",
       "144930    4.811361\n",
       "144931    4.811361\n",
       "144932    4.811361\n",
       "144933    4.811361\n",
       "144934    4.811361\n",
       "144935    4.811361\n",
       "144936    4.811361\n",
       "144937    4.811361\n",
       "144938    4.811361\n",
       "144939    4.731808\n",
       "144940    4.811361\n",
       "144941    4.602409\n",
       "144942    4.811361\n",
       "144943    4.811361\n",
       "144944    4.811361\n",
       "144945    4.811361\n",
       "144946    4.811361\n",
       "144947    4.811361\n",
       "144948    4.811361\n",
       "144949    4.708583\n",
       "Name: longitude_o, Length: 144950, dtype: float64"
      ]
     },
     "execution_count": 30,
     "metadata": {},
     "output_type": "execute_result"
    }
   ],
   "source": [
    "# Control del tamaño de la figura del mapa\n",
    "fig, ax = plt.subplots(figsize=(10, 10))\n",
    " \n",
    "# Control del título y los ejes\n",
    "ax.set_title('Natalidad por Provincias en España, 2018', \n",
    "             pad = 20, \n",
    "             fontdict={'fontsize':20, 'color': '#4873ab'})\n",
    "ax.set_xlabel('longitude_o')\n",
    "ax.set_ylabel('latitude_o')\n",
    " \n",
    "# Mostrar el mapa finalizado\n",
    "map_data.plot(column='NAT2018', cmap='plasma', ax=ax, zorder=5)\n"
   ]
  }
 ],
 "metadata": {
  "kernelspec": {
   "display_name": "Python 3",
   "language": "python",
   "name": "python3"
  },
  "language_info": {
   "codemirror_mode": {
    "name": "ipython",
    "version": 3
   },
   "file_extension": ".py",
   "mimetype": "text/x-python",
   "name": "python",
   "nbconvert_exporter": "python",
   "pygments_lexer": "ipython3",
   "version": "3.6.5"
  }
 },
 "nbformat": 4,
 "nbformat_minor": 2
}
