{
 "cells": [
  {
   "cell_type": "markdown",
   "metadata": {},
   "source": [
    "## Proyecto Final MCPP"
   ]
  },
  {
   "cell_type": "markdown",
   "metadata": {},
   "source": [
    "#### Tipos de grafos\n",
    "\n",
    "##### Grafos dirigidos y no dirigidos\n",
    "\n",
    "La gran diferencia entre estos dos tipos de grafos es que los dirigidos especifican de que forma debo recorrer un grafo, es decir, existe un nodo inicial y uno final; mientras que en un grafo no dirigido no existe un orden específico en recorrer el grafo. (Ver presentación para mayor claridad)."
   ]
  },
  {
   "cell_type": "code",
   "execution_count": 1,
   "metadata": {},
   "outputs": [],
   "source": [
    "### Librerías que se requieren para el proyecto\n",
    "import itertools as it\n",
    "import collections as co"
   ]
  },
  {
   "cell_type": "markdown",
   "metadata": {},
   "source": [
    "La idea es crear dos clases, la primera yo defino un grafo no dirigido de las distintas estaciones del transmilenio, a su vez en esta clase podre crear los diferentes caminos que puedo tener para llegar de una estación a otra."
   ]
  },
  {
   "cell_type": "markdown",
   "metadata": {},
   "source": [
    "Para ello requiero definir diferentes conceptos:\n",
    "#### Vecinos de un nodo\n",
    "Son todos los nodos que estan conectados con un nodo específico.\n",
    "#### Vecindades\n",
    "Es un diccionario que consta de todos los nodos con sus respectivos vecinos."
   ]
  },
  {
   "cell_type": "markdown",
   "metadata": {},
   "source": [
    "##### Específicaciones dentro de la clase: estaciones_transmilenio_no_dirigido\n",
    "\n",
    "- Los lados o conexiones estan dados por una lista: [\"a\",\"b\"] en este caso los elementos son nodos, como aquí no importa el orden [\"a\",\"b\"] es igual a [\"b\",\"a\"].\n",
    "- Los nodos los definiré con numeros. Especificaré mas adelante la relacion entre numeros y estaciones"
   ]
  },
  {
   "cell_type": "code",
   "execution_count": 12,
   "metadata": {},
   "outputs": [],
   "source": [
    "### La clase no dirigido, me permite crear un grafo no dirigdo\n",
    "class estaciones_transmilenio_no_dirigido:\n",
    "    '''\n",
    "    Creo un constructor: Para realizar el grafo este consta de las estaciones de transmilenio que \n",
    "    representan los nodos del grafo y los lados que son las conexiones que hay entre las diferentes \n",
    "    estaciones\n",
    "    ''' \n",
    "    def __init__(self, nodos, lados):\n",
    "        self.estaciones=nodos\n",
    "        self.conexiones=lados\n",
    "        # Agrego un nuevo atributo que será un diccionario de las vencidades \n",
    "        self.vecindades={}\n",
    "    # Funcion que aplicamos en anteriores proyectos para crear vecindades\n",
    "    def crearvecindades(self):\n",
    "        if self.vecindades=={}: \n",
    "            # Recorro todas las conexiones posibles en las diferentes estaciones de transmilenio\n",
    "            for j in self.conexiones:\n",
    "                # Pregunto si el nodo en la posición 0 esta ya creado en las vecindades\n",
    "                if j[0] in self.vecindades:\n",
    "                    a=self.vecindades[j[0]]+(j[1],)\n",
    "                    del self.vecindades[j[0]]\n",
    "                    self.vecindades[j[0]]=a\n",
    "                else:\n",
    "                    self.vecindades[j[0]]=(j[1],)\n",
    "                if j[1] in self.vecindades:\n",
    "                    a=self.vecindades[j[1]]+(j[0],)\n",
    "                    del self.vecindades[j[1]]\n",
    "                    self.vecindades[j[1]]=a\n",
    "                else:\n",
    "                    self.vecindades[j[1]]=(j[0],)\n",
    "    # Todos los posibles caminos de un nodo a otro\n",
    "    def crear_caminos(self,inicial, final):\n",
    "        # Se requiere de la libreria Collections\n",
    "        cola=co.deque()\n",
    "        cola.append((inicial,[inicial]))\n",
    "        while cola:\n",
    "            (v,camino)=cola.pop()\n",
    "            for vertice in set(self.vecindades[v])-set(camino):\n",
    "                if vertice==final:\n",
    "                    yield camino+[vertice]\n",
    "                else:\n",
    "                    cola.append((vertice,camino+[vertice]))\n",
    "        return cola"
   ]
  },
  {
   "cell_type": "code",
   "execution_count": 18,
   "metadata": {},
   "outputs": [
    {
     "name": "stdout",
     "output_type": "stream",
     "text": [
      "<code object crear_caminos at 0x00000209257ABB70, file \"<ipython-input-12-e649e874c557>\", line 32>\n"
     ]
    }
   ],
   "source": [
    "a=estaciones_transmilenio_no_dirigido([1,2,3,4,5],[(1,2),(3,4),(4,5),(3,1)])\n",
    "a.crearvecindades()\n",
    "b=a.crear_caminos(1,3)\n",
    "print()\n"
   ]
  },
  {
   "cell_type": "code",
   "execution_count": null,
   "metadata": {},
   "outputs": [],
   "source": []
  }
 ],
 "metadata": {
  "kernelspec": {
   "display_name": "Python 3",
   "language": "python",
   "name": "python3"
  },
  "language_info": {
   "codemirror_mode": {
    "name": "ipython",
    "version": 3
   },
   "file_extension": ".py",
   "mimetype": "text/x-python",
   "name": "python",
   "nbconvert_exporter": "python",
   "pygments_lexer": "ipython3",
   "version": "3.6.5"
  }
 },
 "nbformat": 4,
 "nbformat_minor": 2
}
