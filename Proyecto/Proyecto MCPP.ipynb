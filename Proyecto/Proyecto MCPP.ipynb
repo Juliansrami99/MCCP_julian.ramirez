{
 "cells": [
  {
   "cell_type": "code",
   "execution_count": 1,
   "metadata": {},
   "outputs": [],
   "source": [
    "import itertools as it\n",
    "import collections as co\n",
    "\n",
    "\n",
    "### Crearemos dos clases una nos permitira tener un flujo en un red y otra que será el grafo no dirigido\n",
    "class no_dirigido:\n",
    "    # Esta clase nos ayudara para definir los vecinos de todos los nodos y a su vez crear todos los caminos posibles de un nodo a otro\n",
    "    # En este caso de la fuente al desague\n",
    "    def __init__(self, nodos, lados):\n",
    "        self.n=nodos\n",
    "        self.e=lados\n",
    "        self.v={}\n",
    "    # Funcion que aplicamos en anteriores proyectos para crear vecindades\n",
    "    def crearvecindades(self):\n",
    "        if self.v=={}: # Basicamente vamos a crear un atributo para el grafo tal que contenga los nodos vecinos \n",
    "           for j in self.e:\n",
    "                if j[0] in self.v:\n",
    "                     a=self.v[j[0]]+(j[1],)\n",
    "                     del self.v[j[0]]\n",
    "                     self.v[j[0]]=a\n",
    "                else:\n",
    "                     self.v[j[0]]=(j[1],)\n",
    "                if j[1] in self.v:\n",
    "                     a=self.v[j[1]]+(j[0],)\n",
    "                     del self.v[j[1]]\n",
    "                     self.v[j[1]]=a\n",
    "                else:\n",
    "                     self.v[j[1]]=(j[0],)\n",
    "    # Todos los posibles caminos de un nodo a otro\n",
    "    def crear_caminos(self,inicial, final):\n",
    "        # Se requiere de la libreria Collections\n",
    "        cola=co.deque()\n",
    "        cola.append((inicial,[inicial]))\n",
    "        while cola:\n",
    "            (v,camino)=cola.pop()\n",
    "            for vertice in set(self.v[v])-set(camino):\n",
    "                if vertice==final:\n",
    "                    yield camino+[vertice]\n",
    "                else:\n",
    "                    cola.append((vertice,camino+[vertice]))\n",
    "        "
   ]
  }
 ],
 "metadata": {
  "kernelspec": {
   "display_name": "Python 3",
   "language": "python",
   "name": "python3"
  },
  "language_info": {
   "codemirror_mode": {
    "name": "ipython",
    "version": 3
   },
   "file_extension": ".py",
   "mimetype": "text/x-python",
   "name": "python",
   "nbconvert_exporter": "python",
   "pygments_lexer": "ipython3",
   "version": "3.6.5"
  }
 },
 "nbformat": 4,
 "nbformat_minor": 2
}
